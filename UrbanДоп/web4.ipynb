{
 "cells": [
  {
   "cell_type": "markdown",
   "metadata": {},
   "source": [
    "<h4>Пара слов о том, как создавать и активировать виртуальное окружение в командной строке</h>"
   ]
  },
  {
   "cell_type": "code",
   "execution_count": null,
   "metadata": {},
   "outputs": [],
   "source": [
    "'''\n",
    "Cоздание виртуального окружения, если Вы используете VS Code и Вам надо создавать его вручную.\n",
    "Создаем его из директории проекта.\n",
    "Восклицательные знаки переносить в командную строку не надо, я их тут указал, чтобы интерпретатор не ругался.\n",
    "'''\n",
    "\n",
    "# на Linux или MacOS\n",
    "!python3 -m venv venv\n",
    "\n",
    "# на Windows\n",
    "!python -m venv venv\n"
   ]
  },
  {
   "cell_type": "code",
   "execution_count": null,
   "metadata": {},
   "outputs": [],
   "source": [
    "'''\n",
    "Активация окружения\n",
    "'''\n",
    "\n",
    "# на Linux или MacOS\n",
    "!source venv/bin/activate\n",
    "\n",
    "# на Windows\n",
    "!venv\\Scripts\\activate"
   ]
  },
  {
   "cell_type": "markdown",
   "metadata": {},
   "source": [
    "<div class=\"markdown prose w-full break-words dark:prose-invert light\"><h3>Отличия между модулями и пакетами</h3><ol><li><p><strong>Модуль</strong>:</p><ul><li><p><strong>Что это</strong>: Модуль — это просто файл с расширением <code>.py</code>, который содержит Python-код (функции, классы, переменные и т. д.).</p></li><li><p><strong>Пример</strong>: Допустим, есть файл <code>my_module.py</code>. Это и есть модуль.</p><pre class=\"!overflow-visible\"><div class=\"contain-inline-size rounded-md border-[0.5px] border-token-border-medium relative bg-token-sidebar-surface-primary dark:bg-gray-950\"><div class=\"sticky top-9 md:top-[5.75rem]\"><div class=\"absolute bottom-0 right-2 flex h-9 items-center\"><div class=\"flex items-center rounded bg-token-sidebar-surface-primary px-2 font-sans text-xs text-token-text-secondary dark:bg-token-main-surface-secondary\"><span class=\"\" data-state=\"closed\"></span></div></div></div><div class=\"overflow-y-auto p-4\" dir=\"ltr\"><code class=\"!whitespace-pre hljs language-python\"><span class=\"hljs-comment\"># my_module.py</span>\n",
    "<span class=\"hljs-keyword\">def</span> <span class=\"hljs-title function_\">greet</span>():\n",
    "    <span class=\"hljs-keyword\">return</span> <span class=\"hljs-string\">\"Hello!\"</span>\n",
    "</code></div></div></pre></li><li><p><strong>Как использовать</strong>: Модуль можно импортировать в другие файлы Python с помощью оператора <code>import</code>.</p><pre class=\"!overflow-visible\"><div class=\"contain-inline-size rounded-md border-[0.5px] border-token-border-medium relative bg-token-sidebar-surface-primary dark:bg-gray-950\"><div class=\"sticky top-9 md:top-[5.75rem]\"><div class=\"absolute bottom-0 right-2 flex h-9 items-center\"><div class=\"flex items-center rounded bg-token-sidebar-surface-primary px-2 font-sans text-xs text-token-text-secondary dark:bg-token-main-surface-secondary\"><span class=\"\" data-state=\"closed\"></span></div></div></div><div class=\"overflow-y-auto p-4\" dir=\"ltr\"><code class=\"!whitespace-pre hljs language-python\"><span class=\"hljs-keyword\">import</span> my_module\n",
    "<span class=\"hljs-built_in\">print</span>(my_module.greet())  <span class=\"hljs-comment\"># Выведет: Hello!</span>\n",
    "</code></div></div></pre></li></ul></li><li><p><strong>Пакет</strong>:</p><ul><li><p><strong>Что это</strong>: Пакет — это папка, которая содержит один или несколько модулей (файлов <code>.py</code>). Он может также содержать другие подкаталоги (подпакеты).</p></li><li><p><strong>Пример</strong>: Пусть есть каталог с несколькими файлами.</p><pre class=\"!overflow-visible\"><div class=\"contain-inline-size rounded-md border-[0.5px] border-token-border-medium relative bg-token-sidebar-surface-primary dark:bg-gray-950\"><div class=\"sticky top-9 md:top-[5.75rem]\"><div class=\"absolute bottom-0 right-2 flex h-9 items-center\"><div class=\"flex items-center rounded bg-token-sidebar-surface-primary px-2 font-sans text-xs text-token-text-secondary dark:bg-token-main-surface-secondary\"><span class=\"\" data-state=\"closed\"></span></div></div></div><div class=\"overflow-y-auto p-4\" dir=\"ltr\"><code class=\"!whitespace-pre hljs language-markdown\">my<span class=\"hljs-emphasis\">_package/\n",
    "    <span class=\"hljs-strong\">__init__</span>.py\n",
    "    my_</span>module1.py\n",
    "<span class=\"hljs-code\">    my_module2.py\n",
    "</span></code></div></div></pre><p>В данном примере <code>my_package</code> является пакетом, а <code>my_module1.py</code> и <code>my_module2.py</code> — модули внутри пакета.</p></li><li><p><strong>Как использовать</strong>: Пакет можно импортировать подобно модулю, но для этого нужно указывать модули, находящиеся внутри него.</p><pre class=\"!overflow-visible\"><div class=\"contain-inline-size rounded-md border-[0.5px] border-token-border-medium relative bg-token-sidebar-surface-primary dark:bg-gray-950\"><div class=\"sticky top-9 md:top-[5.75rem]\"><div class=\"absolute bottom-0 right-2 flex h-9 items-center\"><div class=\"flex items-center rounded bg-token-sidebar-surface-primary px-2 font-sans text-xs text-token-text-secondary dark:bg-token-main-surface-secondary\"><span class=\"\" data-state=\"closed\"></span></div></div></div><div class=\"overflow-y-auto p-4\" dir=\"ltr\"><code class=\"!whitespace-pre hljs language-python\"><span class=\"hljs-keyword\">from</span> my_package <span class=\"hljs-keyword\">import</span> my_module1\n",
    "</code></div></div></pre></li></ul></li></ol><h3><code>__init__.py</code> и его роль</h3><ul><li><p><strong>Зачем нужен <code>__init__.py</code></strong>:</p><ul><li>Этот файл сообщает Python, что каталог, в котором он находится, является <strong>пакетом</strong>.</li><li><strong>В старых версиях Python</strong> (до версии 3.3), папка без файла <code>__init__.py</code> <strong>не считалась</strong> пакетом, и импорт из такой папки был невозможен.</li><li>В современных версиях Python <strong>наличие <code>__init__.py</code> не обязательно</strong> для того, чтобы папка считалась пакетом, однако этот файл все еще полезен для определенных целей.</li></ul></li><li><p><strong>Что можно делать с <code>__init__.py</code></strong>:</p><ul><li><strong>Инициализация пакета</strong>: Можно использовать для выполнения начальной настройки при первом импорте пакета.</li><li><strong>Определение видимости</strong>: Внутри <code>__init__.py</code> можно указать, какие модули или функции из пакета будут доступны при импорте.</li><li><strong>Упрощение импорта</strong>: С его помощью можно создать интерфейс импорта для более удобного использования пакета.</li></ul></li></ul><h3>Пример использования <code>__init__.py</code></h3><ol><li><p><strong>Пример структуры пакета</strong>:</p><pre class=\"!overflow-visible\"><div class=\"contain-inline-size rounded-md border-[0.5px] border-token-border-medium relative bg-token-sidebar-surface-primary dark:bg-gray-950\"><div class=\"sticky top-9 md:top-[5.75rem]\"><div class=\"absolute bottom-0 right-2 flex h-9 items-center\"><div class=\"flex items-center rounded bg-token-sidebar-surface-primary px-2 font-sans text-xs text-token-text-secondary dark:bg-token-main-surface-secondary\"><span class=\"\" data-state=\"closed\"></span></div></div></div><div class=\"overflow-y-auto p-4\" dir=\"ltr\"><code class=\"!whitespace-pre hljs language-markdown\">my<span class=\"hljs-emphasis\">_package/\n",
    "    <span class=\"hljs-strong\">__init__</span>.py\n",
    "    module1.py\n",
    "    module2.py\n",
    "</span></code></div></div></pre></li><li><p><strong>Содержимое файлов</strong>:</p><ul><li><p><code>module1.py</code>:</p><pre class=\"!overflow-visible\"><div class=\"contain-inline-size rounded-md border-[0.5px] border-token-border-medium relative bg-token-sidebar-surface-primary dark:bg-gray-950\"><div class=\"flex items-center text-token-text-secondary px-4 py-2 text-xs font-sans justify-between rounded-t-md h-9 bg-token-sidebar-surface-primary dark:bg-token-main-surface-secondary\">python</div><div class=\"sticky top-9 md:top-[5.75rem]\"><div class=\"absolute bottom-0 right-2 flex h-9 items-center\"><div class=\"flex items-center rounded bg-token-sidebar-surface-primary px-2 font-sans text-xs text-token-text-secondary dark:bg-token-main-surface-secondary\"><span class=\"\" data-state=\"closed\"></span></div></div></div><div class=\"overflow-y-auto p-4\" dir=\"ltr\"><code class=\"!whitespace-pre hljs language-python\"><span class=\"hljs-keyword\">def</span> <span class=\"hljs-title function_\">function1</span>():\n",
    "    <span class=\"hljs-keyword\">return</span> <span class=\"hljs-string\">\"Function 1 from Module 1\"</span>\n",
    "</code></div></div></pre></li><li><p><code>module2.py</code>:</p><pre class=\"!overflow-visible\"><div class=\"contain-inline-size rounded-md border-[0.5px] border-token-border-medium relative bg-token-sidebar-surface-primary dark:bg-gray-950\"><div class=\"sticky top-9 md:top-[5.75rem]\"><div class=\"absolute bottom-0 right-2 flex h-9 items-center\"><div class=\"flex items-center rounded bg-token-sidebar-surface-primary px-2 font-sans text-xs text-token-text-secondary dark:bg-token-main-surface-secondary\"><span class=\"\" data-state=\"closed\"></span></div></div></div><div class=\"overflow-y-auto p-4\" dir=\"ltr\"><code class=\"!whitespace-pre hljs language-python\"><span class=\"hljs-keyword\">def</span> <span class=\"hljs-title function_\">function2</span>():\n",
    "    <span class=\"hljs-keyword\">return</span> <span class=\"hljs-string\">\"Function 2 from Module 2\"</span>\n",
    "</code></div></div></pre></li><li><p><code>__init__.py</code>:</p><pre class=\"!overflow-visible\"><div class=\"contain-inline-size rounded-md border-[0.5px] border-token-border-medium relative bg-token-sidebar-surface-primary dark:bg-gray-950\"><div class=\"sticky top-9 md:top-[5.75rem]\"><div class=\"absolute bottom-0 right-2 flex h-9 items-center\"><div class=\"flex items-center rounded bg-token-sidebar-surface-primary px-2 font-sans text-xs text-token-text-secondary dark:bg-token-main-surface-secondary\"><span class=\"\" data-state=\"closed\"></span></div></div></div><div class=\"overflow-y-auto p-4\" dir=\"ltr\"><code class=\"!whitespace-pre hljs language-python\"><span class=\"hljs-keyword\">from</span> .module1 <span class=\"hljs-keyword\">import</span> function1\n",
    "<span class=\"hljs-keyword\">from</span> .module2 <span class=\"hljs-keyword\">import</span> function2\n",
    "\n",
    "__all__ = [<span class=\"hljs-string\">'function1'</span>, <span class=\"hljs-string\">'function2'</span>]  <span class=\"hljs-comment\"># Определяем, что будет доступно при импорте</span>\n",
    "</code></div></div></pre></li></ul></li><li><p><strong>Импорт пакета</strong>:\n",
    "Теперь можно импортировать пакет и использовать его функции напрямую.</p><pre class=\"!overflow-visible\"><div class=\"contain-inline-size rounded-md border-[0.5px] border-token-border-medium relative bg-token-sidebar-surface-primary dark:bg-gray-950\"><div class=\"sticky top-9 md:top-[5.75rem]\"><div class=\"absolute bottom-0 right-2 flex h-9 items-center\"><div class=\"flex items-center rounded bg-token-sidebar-surface-primary px-2 font-sans text-xs text-token-text-secondary dark:bg-token-main-surface-secondary\"><span class=\"\" data-state=\"closed\"></span></div></div></div><div class=\"overflow-y-auto p-4\" dir=\"ltr\"><code class=\"!whitespace-pre hljs language-python\"><span class=\"hljs-keyword\">from</span> my_package <span class=\"hljs-keyword\">import</span> function1, function2\n",
    "\n",
    "<span class=\"hljs-built_in\">print</span>(function1())  <span class=\"hljs-comment\"># Выведет: Function 1 from Module 1</span>\n",
    "<span class=\"hljs-built_in\">print</span>(function2())  <span class=\"hljs-comment\"># Выведет: Function 2 from Module 2</span>\n",
    "</code></div></div></pre></li></ol><h3>Заключение:</h3><ul><li><strong>Модуль</strong> — это отдельный файл Python, а <strong>пакет</strong> — это каталог, содержащий модули и другие подкаталоги.</li><li><strong><code>__init__.py</code></strong> помогает управлять пакетами, делает возможной инициализацию при импорте, упрощает импорт и определяет видимость компонентов пакета.</li></ul></div>"
   ]
  },
  {
   "cell_type": "markdown",
   "metadata": {},
   "source": [
    "<h3>Процессы, которые происходят при запуске Python-кода</h3>\n",
    "<p>Когда мы пишем и запускаем Python-код, происходит несколько шагов:</p>\n",
    "<ol><li><p><strong>Парсинг</strong>:</p><ul><li>Исходный код (например, <code>.py</code> файл) читается и анализируется Python-интерпретатором.</li><li>Процесс <strong>парсинга</strong> создает синтаксическое дерево (AST, Abstract Syntax Tree), которое представляет структуру кода.</li></ul></li><li><p><strong>Компиляция</strong>:</p><ul><li>AST (абстрактное синтаксическое дерево) компилируется в байт-код. Компиляция создает байт-код, который является промежуточным представлением программы.</li><li>Этот байт-код сохраняется в файле с расширением <code>.pyc</code> (если включено кеширование в папке <code>__pycache__</code>).</li></ul></li><li><p><strong>Интерпретация байт-кода</strong>:</p><ul><li>Интерпретатор передает байт-код виртуальной машине Python (PVM). PVM выполняет этот байт-код, пошагово исполняя команды.</li><li>На этом этапе интерпретатор взаимодействует с операционной системой для выполнения операций (например, чтение данных с диска, вывод на экран и т.д.).</li></ul></li></ol>"
   ]
  },
  {
   "cell_type": "code",
   "execution_count": null,
   "metadata": {},
   "outputs": [],
   "source": [
    "import ast\n",
    "import graphviz\n",
    "from IPython.display import Image\n",
    "\n",
    "# Вспомогательная функция для построения графа AST\n",
    "def ast_to_graph(node, graph=None):\n",
    "    if graph is None:\n",
    "        graph = graphviz.Digraph()\n",
    "    \n",
    "    node_label = f'{type(node).__name__}'\n",
    "\n",
    "    # Если это узел с атрибутом (например, имя функции или значение константы)\n",
    "    if isinstance(node, ast.Name):\n",
    "        node_label += f': {node.id}'\n",
    "    elif isinstance(node, ast.Constant):\n",
    "        node_label += f': {node.value}'\n",
    "    \n",
    "    graph.node(str(id(node)), label=node_label)\n",
    "    \n",
    "    for field, value in ast.iter_fields(node):\n",
    "        if isinstance(value, ast.AST):\n",
    "            ast_to_graph(value, graph)\n",
    "            graph.edge(str(id(node)), str(id(value)), label=field)\n",
    "        elif isinstance(value, list):\n",
    "            for item in value:\n",
    "                if isinstance(item, ast.AST):\n",
    "                    ast_to_graph(item, graph)\n",
    "                    graph.edge(str(id(node)), str(id(item)), label=field)\n",
    "\n",
    "    return graph\n",
    "\n",
    "# Пример кода для визуализации\n",
    "code = \"\"\"\n",
    "def calculate_structure_sum(data):\n",
    "    total_sum = 0\n",
    "    \n",
    "    if isinstance(data, int):\n",
    "        return data\n",
    "\n",
    "    elif isinstance(data, str):\n",
    "        return len(data)\n",
    "\n",
    "    elif isinstance(data, (list, tuple, set)):\n",
    "        for item in data:\n",
    "            total_sum += calculate_structure_sum(item)\n",
    "    \n",
    "    elif isinstance(data, dict):\n",
    "        for key, value in data.items():\n",
    "            total_sum += calculate_structure_sum(key)\n",
    "            total_sum += calculate_structure_sum(value)\n",
    "    \n",
    "    return total_sum\n",
    "\"\"\"\n",
    "\n",
    "# Парсинг кода и создание AST\n",
    "tree = ast.parse(code)\n",
    "\n",
    "# Преобразуем AST в граф и визуализируем\n",
    "graph = ast_to_graph(tree)\n",
    "graph.render(\"ast_graph\", format=\"png\", cleanup=True)\n",
    "\n",
    "print(\"AST визуализирован и сохранен как 'ast_graph.png'\")\n",
    "Image(filename='ast_graph.png')"
   ]
  },
  {
   "cell_type": "code",
   "execution_count": null,
   "metadata": {},
   "outputs": [],
   "source": [
    "import dis\n",
    "\n",
    "def calculate_structure_sum(data):\n",
    "    total_sum = 0\n",
    "    \n",
    "    if isinstance(data, int):\n",
    "        return data\n",
    "\n",
    "    elif isinstance(data, str):\n",
    "        return len(data)\n",
    "\n",
    "    elif isinstance(data, (list, tuple, set)):\n",
    "        for item in data:\n",
    "            total_sum += calculate_structure_sum(item)\n",
    "    \n",
    "    elif isinstance(data, dict):\n",
    "        for key, value in data.items():\n",
    "            total_sum += calculate_structure_sum(key)\n",
    "            total_sum += calculate_structure_sum(value)\n",
    "    \n",
    "    return total_sum\n",
    "\n",
    "dis.dis(calculate_structure_sum)"
   ]
  },
  {
   "cell_type": "markdown",
   "metadata": {},
   "source": [
    "<h3 style=\"text-align: center;\">Функции как объекты</h3>\n",
    "\n",
    "<p>До&nbsp;сих пор мы&nbsp;рассматривали функции как совершенно отдельный элемент языка со&nbsp;своим синтаксисом и&nbsp;механизмом&nbsp;работы. Но, оказывается, функции также что-то вроде особого типа объектов. Бывают числа, строки, списки, кортежи, словари, множества. А&nbsp;бывают&nbsp;— функции. У&nbsp;каждого из&nbsp;этих типов есть свои операции, свой синтаксис, но&nbsp;все они&nbsp;— объекты.</p>"
   ]
  },
  {
   "cell_type": "code",
   "execution_count": null,
   "metadata": {},
   "outputs": [],
   "source": [
    "num = 17\n",
    "numbers = [1, 2, 3]\n",
    "colors = (1, 2, 3)\n",
    "name = 'Python'\n",
    "\n",
    "print(type(num))\n",
    "print(type(numbers))\n",
    "print(type(colors))\n",
    "print(type(name))"
   ]
  },
  {
   "cell_type": "code",
   "execution_count": null,
   "metadata": {},
   "outputs": [],
   "source": [
    "# Встроенные функции - объекты\n",
    "\n",
    "print(type(print))\n",
    "print(type(sum))\n",
    "print(type(abs))"
   ]
  },
  {
   "cell_type": "code",
   "execution_count": null,
   "metadata": {},
   "outputs": [],
   "source": [
    "# Пользовательские функции - объекты\n",
    "\n",
    "def hello():\n",
    "    print('Hello from function')\n",
    "\n",
    "\n",
    "print(type(hello))"
   ]
  },
  {
   "cell_type": "markdown",
   "metadata": {},
   "source": [
    "<p><img alt=\"\" height=\"49\" src=\"https://ucarecdn.com/e918ff1d-391f-4d17-811d-a9e8439232f7/\" width=\"49\">​&nbsp; &nbsp;​​​​​​В&nbsp;языке Python все&nbsp;объект:&nbsp;число, строка, список, кортеж, множество, словарь,&nbsp;даже функция.</p>\n",
    "<p>Поскольку функции&nbsp;тоже&nbsp;объекты,&nbsp;работать с ними можно и как с объектами: записывать их в переменные, передавать в качестве аргументов другим функциям, возвращать из функций&nbsp;и т.д.</p>"
   ]
  },
  {
   "cell_type": "code",
   "execution_count": null,
   "metadata": {},
   "outputs": [],
   "source": [
    "writeln = print            # как в языке Pascal или Rust\n",
    "\n",
    "writeln('Hello world!')\n",
    "writeln('Python')"
   ]
  },
  {
   "cell_type": "code",
   "execution_count": null,
   "metadata": {},
   "outputs": [],
   "source": [
    "def func():\n",
    "    print(\"Нет такого ключа!\")\n",
    "\n",
    "\n",
    "def start():\n",
    "    print(\"Стартуем!\")\n",
    "\n",
    "\n",
    "def stop():\n",
    "    print(\"Не тормозим, а вынужденно останавливаемся!\")\n",
    "\n",
    "\n",
    "def pause():\n",
    "    print(\"Ждем у моря погоды...\")\n",
    "\n",
    "\n",
    "commands = {'start': start, 'stop': stop, 'pause': pause}  # словарь соответствия команда → функция\n",
    "\n",
    "command = input()  # считываем название команды\n",
    "\n",
    "commands.get(command, func)()  # вызываем нужную функцию через словарь по ключу"
   ]
  },
  {
   "cell_type": "markdown",
   "metadata": {},
   "source": [
    "<h3 style=\"text-align: center;\">Встроенные функции, принимающие функции в качестве аргументов</h3>\n",
    "<ul>\n",
    "\t<li><code>min()</code>: поиск минимального элемента;</li>\n",
    "\t<li><code>max()</code>:&nbsp;поиск максимального элемента;</li>\n",
    "\t<li><code>sorted()</code>: сортировка данных.</li>\n",
    "</ul>"
   ]
  },
  {
   "cell_type": "code",
   "execution_count": null,
   "metadata": {},
   "outputs": [],
   "source": [
    "numbers = [10, -7, 8, -100, -50, 32, 87, 117, -210]\n",
    "\n",
    "print(max(numbers))\n",
    "print(min(numbers))\n",
    "print(sorted(numbers))"
   ]
  },
  {
   "cell_type": "markdown",
   "metadata": {},
   "source": [
    "<p>Но&nbsp;что, если мы хотим написать код для поиска&nbsp;<strong>максимального по модулю</strong> элемента списка <code>numbers</code>? И вообще, сравнивать элементы не стандартным способом, а более специфическими?</p>\n",
    "<p>На этот случай все выше перечисленные встроенные функции могут&nbsp;принимать&nbsp;необязательный аргумент&nbsp;<code>key</code> – функцию,&nbsp;определяющую условия сравнения элементов. Другими словами, значение&nbsp;<code>key</code>&nbsp;должно быть функцией, принимающей один аргумент и возвращающей на его основе ключ для сравнения.</p>\n",
    "<p>Функция,&nbsp;определяющая условия сравнения элементов, называется <strong>компаратор</strong>&nbsp;(compare –&nbsp;сравнивать).</p>"
   ]
  },
  {
   "cell_type": "code",
   "execution_count": null,
   "metadata": {},
   "outputs": [],
   "source": [
    "numbers = [10, -7, 8, -100, -50, 32, 87, 117, -210]\n",
    "\n",
    "print(max(numbers, key=abs))        #  указываем функцию abs в качестве компаратора\n",
    "print(min(numbers, key=abs))        #  указываем функцию abs в качестве компаратора\n",
    "print(sorted(numbers, key=abs))     #  указываем функцию abs в качестве компаратора"
   ]
  },
  {
   "cell_type": "markdown",
   "metadata": {},
   "source": [
    "<p>Встроенные функции <code>min()</code>, <code>max()</code>, <code>sorted()</code> – функции высшего порядка, так как&nbsp;принимают в качестве аргумента функцию сравнения элементов.</p>"
   ]
  },
  {
   "cell_type": "code",
   "execution_count": null,
   "metadata": {},
   "outputs": [],
   "source": [
    "def compare_by_second(point):\n",
    "    return point[1]\n",
    "\n",
    "\n",
    "def compare_by_sum(point):\n",
    "    return point[0] + point[1]\n",
    "\n",
    "\n",
    "points = [(1, -1), (2, 3), (-10, 15), (10, 9), (7, 18), (1, 5), (2, -4)]\n",
    "\n",
    "print(sorted(points, key=compare_by_second))   # сортируем по второму значению кортежа\n",
    "print(sorted(points, key=compare_by_sum))      # сортируем по сумме кортежа"
   ]
  },
  {
   "cell_type": "code",
   "execution_count": null,
   "metadata": {},
   "outputs": [],
   "source": [
    "'''\n",
    "    Напишите программу сортировки списка спортсменов по указанному полю:\n",
    "        1: по имени;\n",
    "        2: по возрасту;\n",
    "        3: по росту;\n",
    "        4: по весу.\n",
    "'''\n",
    "\n",
    "def sorted_elem(tup):\n",
    "\n",
    "    return tup[k - 1]\n",
    "\n",
    "\n",
    "athletes = [\n",
    "    ('Геракл', 10, 190, 35), ('Добрыня', 11, 215, 39), ('Беовульф', 9, 180, 33), \n",
    "    ('Самсон', 10, 188, 30), ('Артемида', 16, 150, 50), ('Девана', 16, 158, 59), \n",
    "    ('Скади', 17, 168, 68), ('Том Бомбадил', 999, 190, 90)\n",
    "    ]\n",
    "\n",
    "k = int(input())\n",
    "\n",
    "athletes.sort(key=sorted_elem)\n",
    "\n",
    "[print(*info) for info in athletes]"
   ]
  }
 ],
 "metadata": {
  "kernelspec": {
   "display_name": "vscode_env",
   "language": "python",
   "name": "python3"
  },
  "language_info": {
   "codemirror_mode": {
    "name": "ipython",
    "version": 3
   },
   "file_extension": ".py",
   "mimetype": "text/x-python",
   "name": "python",
   "nbconvert_exporter": "python",
   "pygments_lexer": "ipython3",
   "version": "3.12.3"
  }
 },
 "nbformat": 4,
 "nbformat_minor": 2
}
